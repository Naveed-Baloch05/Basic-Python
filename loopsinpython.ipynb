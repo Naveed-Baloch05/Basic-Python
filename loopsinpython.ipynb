{
 "cells": [
  {
   "cell_type": "markdown",
   "id": "e425e0e2",
   "metadata": {},
   "source": [
    "## Loops in Python"
   ]
  },
  {
   "cell_type": "code",
   "execution_count": 4,
   "id": "0d1dd449",
   "metadata": {},
   "outputs": [
    {
     "name": "stdout",
     "output_type": "stream",
     "text": [
      "1\n",
      "3\n",
      "5\n",
      "7\n",
      "9\n",
      "1\n",
      "2\n",
      "3\n",
      "4\n",
      "5\n",
      "6\n",
      "7\n",
      "8\n",
      "9\n"
     ]
    }
   ],
   "source": [
    "# For Loops \n",
    "\n",
    "# which has fix number of Times to run\n",
    "# it is Range Base\n",
    "# Examples\n",
    "# we take a varial (\"i\") which value is start from 1 and end at 10 with \n",
    "# decriment of 2\n",
    "\n",
    "for i in range(1,10,2):\n",
    " print(i)\n",
    "\n",
    "# when we remove the increament then also check its output\n",
    "\n",
    "\n",
    "for i in range(1,10):\n",
    "  print(i)\n"
   ]
  },
  {
   "cell_type": "code",
   "execution_count": null,
   "id": "96808b3a",
   "metadata": {},
   "outputs": [
    {
     "name": "stdout",
     "output_type": "stream",
     "text": [
      "11 * 1 = 11\n",
      "11 * 2 = 22\n",
      "11 * 3 = 33\n",
      "11 * 4 = 44\n",
      "11 * 5 = 55\n",
      "11 * 6 = 66\n",
      "11 * 7 = 77\n",
      "11 * 8 = 88\n",
      "11 * 9 = 99\n",
      "11 * 10 = 110\n"
     ]
    }
   ],
   "source": [
    "# Whlie loopS\n",
    "\n",
    "# which has indefinit number of Times to run\n",
    "# it is a conditional Base but rang also can be apply\n",
    "# Examples\n",
    "# Program to print the Table\n",
    "\n",
    "number= int(input('Enter the number'))\n",
    "i=1\n",
    "while i<11:\n",
    "    print(number , '*', i, '=', number * i)\n",
    "    i += 1\n",
    "\n",
    "    # While loop with else\n",
    "\n",
    "    x = 1\n",
    "    while x < 10 :\n",
    "        print(x)\n",
    "        x = 1\n",
    "    else:\n",
    "        print(\"limit crosse\")"
   ]
  }
 ],
 "metadata": {
  "kernelspec": {
   "display_name": "Python 3",
   "language": "python",
   "name": "python3"
  },
  "language_info": {
   "codemirror_mode": {
    "name": "ipython",
    "version": 3
   },
   "file_extension": ".py",
   "mimetype": "text/x-python",
   "name": "python",
   "nbconvert_exporter": "python",
   "pygments_lexer": "ipython3",
   "version": "3.13.6"
  }
 },
 "nbformat": 4,
 "nbformat_minor": 5
}
