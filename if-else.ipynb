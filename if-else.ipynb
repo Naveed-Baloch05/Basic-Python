{
 "cells": [
  {
   "cell_type": "markdown",
   "id": "7e121082",
   "metadata": {},
   "source": [
    "## If-else In python"
   ]
  },
  {
   "cell_type": "code",
   "execution_count": 2,
   "id": "aa0cb228",
   "metadata": {},
   "outputs": [
    {
     "name": "stdout",
     "output_type": "stream",
     "text": [
      "Welcome Here\n"
     ]
    }
   ],
   "source": [
    "# Login program and Indentation\n",
    "# it is the start so we have no data base so we just imagen the email and password\n",
    "# if email -> Naveed@gmail.com\n",
    "# password -> 12345 \n",
    "# then it should print the if statment otherwise else statment\n",
    "\n",
    "email = input('Enter your Email')\n",
    "password = input('Enter your password')\n",
    "\n",
    "if email =='Naveed@gmail.com' and password =='12345':\n",
    "    print('Welcome Here')\n",
    "else :\n",
    "    print('you have input incorrect Email or Password')   \n"
   ]
  },
  {
   "cell_type": "code",
   "execution_count": null,
   "id": "c488c274",
   "metadata": {},
   "outputs": [
    {
     "name": "stdout",
     "output_type": "stream",
     "text": [
      "incorrect password\n",
      "Yu Again put password\n"
     ]
    }
   ],
   "source": [
    "# ANother Example\n",
    "email = input('Enter your Email')\n",
    "password = input('Enter your password')\n",
    "\n",
    "if email =='Naveed@gmail.com' and password =='12345':\n",
    "    print('Welcome Here')\n",
    "elif email== 'Naveed@gmail.com' and password !='12345':\n",
    "    print('incorrect password')\n",
    "    password = input('Enter Password Again')\n",
    "    if password =='12345' :\n",
    "        print('Welcome Hara!')\n",
    "    else:\n",
    "       print ('Yu Again put Wrong password')\n",
    "else :\n",
    "    print('you have input incorrect Email or Password')   "
   ]
  },
  {
   "cell_type": "code",
   "execution_count": 17,
   "id": "d7ea90da",
   "metadata": {},
   "outputs": [
    {
     "name": "stdout",
     "output_type": "stream",
     "text": [
      "The Min Number is 44\n"
     ]
    }
   ],
   "source": [
    "# Find the Minimum of 3 Numbers\n",
    "a = int (input('Enter First Number'))\n",
    "b = int (input('Enter Second Number'))\n",
    "c = int (input('Enter Third Number'))\n",
    "if a<b and a<c:\n",
    "    print('The Min Number is',a)\n",
    "elif b<c:\n",
    "    print(\"The Min number is\",b)\n",
    "else :\n",
    "    print('The Min Number is',c)\n",
    "\n",
    "\n",
    "\n"
   ]
  },
  {
   "cell_type": "code",
   "execution_count": 18,
   "id": "146b2ffb",
   "metadata": {},
   "outputs": [
    {
     "name": "stdout",
     "output_type": "stream",
     "text": [
      "9.0\n"
     ]
    }
   ],
   "source": [
    "# Menu driven Calculator\n",
    "\n",
    "fnum = int(input(\"Enter 1st number\"))\n",
    "snum = int(input(\"Enter 2nd number\"))\n",
    "op = input(\"Enter the operation\")\n",
    "if op == '+':\n",
    "    print (fnum + snum)\n",
    "elif op == '-':\n",
    "    print(fnum - snum)\n",
    "elif op == '*' :\n",
    "    print(fnum * snum) \n",
    "elif op == '/' :\n",
    "    print (fnum / snum) \n",
    "\n"
   ]
  }
 ],
 "metadata": {
  "kernelspec": {
   "display_name": "Python 3",
   "language": "python",
   "name": "python3"
  },
  "language_info": {
   "codemirror_mode": {
    "name": "ipython",
    "version": 3
   },
   "file_extension": ".py",
   "mimetype": "text/x-python",
   "name": "python",
   "nbconvert_exporter": "python",
   "pygments_lexer": "ipython3",
   "version": "3.13.6"
  }
 },
 "nbformat": 4,
 "nbformat_minor": 5
}
