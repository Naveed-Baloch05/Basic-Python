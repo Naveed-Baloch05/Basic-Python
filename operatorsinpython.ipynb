{
 "cells": [
  {
   "cell_type": "markdown",
   "id": "b291f8ce",
   "metadata": {},
   "source": [
    "## OPerators In Python"
   ]
  },
  {
   "cell_type": "code",
   "execution_count": null,
   "id": "fff2cce0",
   "metadata": {},
   "outputs": [],
   "source": [
    "# Arithmetic operator\n",
    "# Relational Operator\n",
    "# Logical Operator\n",
    "# BitWise Operator\n",
    "# Assignment Operator\n",
    "# Membership Operator"
   ]
  },
  {
   "cell_type": "code",
   "execution_count": 2,
   "id": "01d915d6",
   "metadata": {},
   "outputs": [
    {
     "name": "stdout",
     "output_type": "stream",
     "text": [
      "11\n",
      "-1\n",
      "30\n",
      "0.8333333333333334\n",
      "1\n",
      "25\n"
     ]
    }
   ],
   "source": [
    "# Arithmetic Operator\n",
    "\n",
    "print(5+6)\n",
    "\n",
    "print(5-6)\n",
    "\n",
    "print(5*6)\n",
    "\n",
    "print(5/6)\n",
    "\n",
    "print(5%2)\n",
    "\n",
    "print(5**2)"
   ]
  },
  {
   "cell_type": "code",
   "execution_count": null,
   "id": "f5edbbe8",
   "metadata": {},
   "outputs": [],
   "source": [
    "# Relational Operator\n",
    "\n",
    "print(7<5)\n",
    "\n",
    "print(7>5)\n",
    "\n",
    "print(7>=7)\n",
    "\n",
    "print(7<=7)\n",
    "\n",
    "print(7==7)\n",
    "\n",
    "print(7!=7)"
   ]
  },
  {
   "cell_type": "code",
   "execution_count": null,
   "id": "c69dc48c",
   "metadata": {},
   "outputs": [],
   "source": [
    "# Logical Operator\n",
    "\n",
    "print(1 and 0)\n",
    "\n",
    "print(1 or 0)\n",
    "\n",
    "print(not 1)"
   ]
  },
  {
   "cell_type": "code",
   "execution_count": null,
   "id": "2f1194c3",
   "metadata": {},
   "outputs": [
    {
     "name": "stdout",
     "output_type": "stream",
     "text": [
      "2\n",
      "3\n",
      "1\n"
     ]
    }
   ],
   "source": [
    "# BitWise Operator\n",
    "\n",
    "# Bitwise And\n",
    "\n",
    "print(2 & 3)\n",
    "\n",
    "# Bitwise OR\n",
    "\n",
    "print(2 | 3)\n",
    "\n",
    "# Bitwise Xor\n",
    "\n",
    "print(2 ^ 3)\n",
    "\n",
    "print(4 << 5)\n",
    "\n",
    "print(4 >> 5)\n"
   ]
  },
  {
   "cell_type": "code",
   "execution_count": 6,
   "id": "602636d2",
   "metadata": {},
   "outputs": [
    {
     "name": "stdout",
     "output_type": "stream",
     "text": [
      "5\n",
      "13\n"
     ]
    }
   ],
   "source": [
    "# Assignment Operator\n",
    "# in Assignment Operator the \" = \" operator is used\n",
    "\n",
    "a = 5\n",
    "print(a)\n",
    "\n",
    "# \" = \" operator is also can be used with other operators\n",
    "# For example\n",
    "\n",
    "a =6\n",
    "a+=7\n",
    "print(a)"
   ]
  },
  {
   "cell_type": "code",
   "execution_count": 13,
   "id": "5b351a34",
   "metadata": {},
   "outputs": [
    {
     "name": "stdout",
     "output_type": "stream",
     "text": [
      "True\n",
      "False\n",
      "False\n",
      "True\n"
     ]
    }
   ],
   "source": [
    "# Membership Operator\n",
    "#  in / not in\n",
    "\n",
    "print(\"N\" in \"Naveed\")\n",
    "\n",
    "print(\"a\" not in \"Naveed\" )\n",
    "\n",
    "print (45 not in [23, 44, 76, 85, 45, 55])\n",
    "\n",
    "print(45  in [23, 44, 76, 85, 45, 55])\n"
   ]
  }
 ],
 "metadata": {
  "kernelspec": {
   "display_name": "Python 3",
   "language": "python",
   "name": "python3"
  },
  "language_info": {
   "codemirror_mode": {
    "name": "ipython",
    "version": 3
   },
   "file_extension": ".py",
   "mimetype": "text/x-python",
   "name": "python",
   "nbconvert_exporter": "python",
   "pygments_lexer": "ipython3",
   "version": "3.13.6"
  }
 },
 "nbformat": 4,
 "nbformat_minor": 5
}
