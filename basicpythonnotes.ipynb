{
 "cells": [
  {
   "cell_type": "markdown",
   "id": "84df912a",
   "metadata": {},
   "source": [
    "## DataTpye"
   ]
  },
  {
   "cell_type": "code",
   "execution_count": null,
   "id": "86e1a9ba",
   "metadata": {},
   "outputs": [
    {
     "name": "stdout",
     "output_type": "stream",
     "text": [
      "8\n",
      "<class 'int'>\n",
      "1e+308\n",
      "40\n"
     ]
    }
   ],
   "source": [
    "# Integer\n",
    "# in integer we only print result in int form\n",
    "# for example\n",
    "print(8)\n",
    "print(type(8))\n",
    "print(1e308)\n",
    "a = 15 \n",
    "b = 25\n",
    "c = a+b\n",
    "print(c)"
   ]
  },
  {
   "cell_type": "code",
   "execution_count": 11,
   "id": "c84c64ba",
   "metadata": {},
   "outputs": [
    {
     "name": "stdout",
     "output_type": "stream",
     "text": [
      "12.0\n",
      "<class 'float'>\n",
      "24.59\n",
      "<class 'float'>\n"
     ]
    }
   ],
   "source": [
    "# Float\n",
    "# in Float we can take result in decimal\n",
    "# for example\n",
    "print(12.0)\n",
    "print(type(12.0))\n",
    "a = 10.14\n",
    "b = 14.45\n",
    "c = a + b\n",
    "print(c)\n",
    "print(type(c))"
   ]
  },
  {
   "cell_type": "code",
   "execution_count": null,
   "id": "b1502d78",
   "metadata": {},
   "outputs": [],
   "source": [
    "# Boolean\n",
    "# in boolean case we only take result in \"True\" or \"False\" form\n",
    "# for example if we perform any action then the result will be showe \"True\" otherwise \"False\"\n",
    "print(True)\n",
    "print(False)"
   ]
  },
  {
   "cell_type": "code",
   "execution_count": 13,
   "id": "149ce236",
   "metadata": {},
   "outputs": [
    {
     "name": "stdout",
     "output_type": "stream",
     "text": [
      "Hello World\n",
      "<class 'str'>\n",
      "25\n",
      "<class 'str'>\n"
     ]
    }
   ],
   "source": [
    "# String\n",
    "# in print section when we add any trhing in \"\" or in '' then this type of data is known as String\n",
    "# the Text is also written in String data type\n",
    "# for Example\n",
    "print(\"Hello World\")\n",
    "print(type(\"Hello World\"))\n",
    "# Exp 2\n",
    "print('25')\n",
    "print(type('25'))"
   ]
  },
  {
   "cell_type": "code",
   "execution_count": 14,
   "id": "47040ee6",
   "metadata": {},
   "outputs": [
    {
     "name": "stdout",
     "output_type": "stream",
     "text": [
      "(25+6j)\n"
     ]
    }
   ],
   "source": [
    "# Complex\n",
    "# in Complex we can take the real and imagneary part in print section\n",
    "print(25+6j)"
   ]
  },
  {
   "cell_type": "code",
   "execution_count": null,
   "id": "69cd8cec",
   "metadata": {},
   "outputs": [
    {
     "name": "stdout",
     "output_type": "stream",
     "text": [
      "[14, 54, 23, 88, 64, 78, 92, 69]\n",
      "['Naveed', 78, 'ziad', 27.56, 48, 92]\n"
     ]
    }
   ],
   "source": [
    "# List\n",
    "# in List we can add the diffenet item in square breaket\n",
    "# For exmple\n",
    "print([14,54,23,88,64,78,92,69])\n",
    "print([\"Naveed\",78,\"ziad\",27.56, 48, 92])"
   ]
  },
  {
   "cell_type": "code",
   "execution_count": null,
   "id": "9a3e2b67",
   "metadata": {},
   "outputs": [
    {
     "name": "stdout",
     "output_type": "stream",
     "text": [
      "(12, 34, 84, 86, 90, 34)\n"
     ]
    }
   ],
   "source": [
    "# Tuple\n",
    "# Tuple is same like the list but in tuple we can add the items in small breaket\n",
    "print((12,34,84,86,90,34))"
   ]
  },
  {
   "cell_type": "code",
   "execution_count": null,
   "id": "94f73cba",
   "metadata": {},
   "outputs": [
    {
     "name": "stdout",
     "output_type": "stream",
     "text": [
      "{'name': 'Naveed', 'gender': 'Male', 'Age': 23}\n"
     ]
    }
   ],
   "source": [
    "# Dictionary\n",
    "# it is very Powerfull Data type which we use in future\n",
    "# it is value paire \n",
    "# for example\n",
    "print({'name':'Naveed', 'gender':'Male','Age':23})"
   ]
  },
  {
   "cell_type": "markdown",
   "id": "23329ffa",
   "metadata": {},
   "source": [
    "## User Input"
   ]
  },
  {
   "cell_type": "code",
   "execution_count": null,
   "id": "26c48f49",
   "metadata": {},
   "outputs": [
    {
     "data": {
      "text/plain": [
       "'naveed'"
      ]
     },
     "execution_count": 23,
     "metadata": {},
     "output_type": "execute_result"
    }
   ],
   "source": [
    "# In user input We can take input from the user\n",
    "# for example\n",
    "input()\n",
    "\n",
    " # in first we did not mention what should the user Enter here we tell the user what they should be Enter\n",
    "input(\"Please Enter your Name\")\n",
    "input(\"Please enter your Email\")"
   ]
  }
 ],
 "metadata": {
  "kernelspec": {
   "display_name": "Python 3",
   "language": "python",
   "name": "python3"
  },
  "language_info": {
   "codemirror_mode": {
    "name": "ipython",
    "version": 3
   },
   "file_extension": ".py",
   "mimetype": "text/x-python",
   "name": "python",
   "nbconvert_exporter": "python",
   "pygments_lexer": "ipython3",
   "version": "3.13.6"
  }
 },
 "nbformat": 4,
 "nbformat_minor": 5
}
