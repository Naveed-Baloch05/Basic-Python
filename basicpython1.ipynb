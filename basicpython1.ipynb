{
 "cells": [
  {
   "cell_type": "code",
   "execution_count": 1,
   "id": "9aee2497",
   "metadata": {},
   "outputs": [
    {
     "name": "stdout",
     "output_type": "stream",
     "text": [
      "hello\n"
     ]
    }
   ],
   "source": [
    "print(\"hello\")"
   ]
  },
  {
   "cell_type": "code",
   "execution_count": 2,
   "id": "9cbbc0b7",
   "metadata": {},
   "outputs": [
    {
     "name": "stdout",
     "output_type": "stream",
     "text": [
      "Welcom to here\n"
     ]
    }
   ],
   "source": [
    "print(\"Welcom to here\")\n"
   ]
  },
  {
   "cell_type": "code",
   "execution_count": 9,
   "id": "c2b665b7",
   "metadata": {},
   "outputs": [
    {
     "name": "stdout",
     "output_type": "stream",
     "text": [
      "Data-Science-Mentoreship-program-started-By-compusx\n"
     ]
    }
   ],
   "source": [
    "# Print the given strings as per stated format.\n",
    "#Given strings:\n",
    "\n",
    "#\"Data\" \"Science\" \"Mentorship\" \"Program\" \n",
    "#\"By\" \"CampusX\"\n",
    "#Concept of Seperator and End\n",
    "print(\"Data-Science-Mentoreship-program-started-By-compusx\")"
   ]
  },
  {
   "cell_type": "code",
   "execution_count": null,
   "id": "cbcb9412",
   "metadata": {},
   "outputs": [
    {
     "name": "stdout",
     "output_type": "stream",
     "text": [
      "37.0C is equal to 96.6F\n"
     ]
    }
   ],
   "source": [
    "# Write a program that will convert Celsius value to Fahrenheit.\n",
    "celsius=float(input(\"Enter Temprature in Celsius\"))\n",
    "fahrenhiet=(celsius * 9/5) +30\n",
    "print(f\"{celsius}C is equal to {fahrenhiet}F\")"
   ]
  },
  {
   "cell_type": "code",
   "execution_count": 17,
   "id": "c0030b7d",
   "metadata": {},
   "outputs": [
    {
     "name": "stdout",
     "output_type": "stream",
     "text": [
      "37.0F is equal to 3.888888888888889C\n"
     ]
    }
   ],
   "source": [
    "# Write a program that will convert Fahrenheit value to Celsius.\n",
    "fahrenhiet =float(input(\"Enter the Temprature in Fahrenhiet\"))\n",
    "celsius =(fahrenhiet-30) * 5/9\n",
    "print(f\"{fahrenhiet}F is equal to {celsius}C\")\n"
   ]
  },
  {
   "cell_type": "code",
   "execution_count": null,
   "id": "40374f71",
   "metadata": {},
   "outputs": [],
   "source": [
    "print(\"Date\",end='-')\n",
    "print(\"Science\",end='-')\n",
    "print(\"MentoreShip\",end='-')\n",
    "print(\"Program\",end='-')\n",
    "print(\"Started\",end='-')\n",
    "print(\"By\",end='-')\n",
    "print(\"Compusx\")"
   ]
  },
  {
   "cell_type": "code",
   "execution_count": 18,
   "id": "303c6349",
   "metadata": {},
   "outputs": [
    {
     "name": "stdout",
     "output_type": "stream",
     "text": [
      "before swapping: a = 25 , b = 60\n",
      "After swapping : a = 60 , b = 25\n"
     ]
    }
   ],
   "source": [
    "#Take 2 numbers as input from the user.Write a program to swap the numbers without using any special python syntax.\n",
    " \n",
    "a = int(input(\"Enter First Number\"))\n",
    "b = int(input(\"Enter Second Number\"))\n",
    "print(f\"before swapping: a = {a} , b = {b}\")\n",
    " \n",
    " # swap without temp value\n",
    "\n",
    "a = a + b\n",
    "b = a - b\n",
    "a = a - b\n",
    "print(f\"After swapping : a = {a} , b = {b}\")"
   ]
  },
  {
   "cell_type": "code",
   "execution_count": 19,
   "id": "0e96bb4a",
   "metadata": {},
   "outputs": [
    {
     "name": "stdout",
     "output_type": "stream",
     "text": [
      "Before Swapping : a=10 , b = 20\n",
      "After swapping: a = 20, b = 10\n"
     ]
    }
   ],
   "source": [
    "a = int(input(\"Enter First Number\"))\n",
    "b = int(input(\"Enter Second Number\"))\n",
    "print(f\"Before Swapping : a={a} , b = {b}\")\n",
    " \n",
    " # Swapping using a temparory variable\n",
    "temp = a\n",
    "a = b\n",
    "b = temp\n",
    "print(f\"After swapping: a = {a}, b = {b}\")"
   ]
  }
 ],
 "metadata": {
  "kernelspec": {
   "display_name": "Python 3",
   "language": "python",
   "name": "python3"
  },
  "language_info": {
   "codemirror_mode": {
    "name": "ipython",
    "version": 3
   },
   "file_extension": ".py",
   "mimetype": "text/x-python",
   "name": "python",
   "nbconvert_exporter": "python",
   "pygments_lexer": "ipython3",
   "version": "3.13.6"
  }
 },
 "nbformat": 4,
 "nbformat_minor": 5
}
